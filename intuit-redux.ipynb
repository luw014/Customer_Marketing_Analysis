{
 "cells": [
  {
   "cell_type": "markdown",
   "metadata": {},
   "source": [
    "# Intuit Quickbooks Upgrade\n",
    "\n",
    "* Team-lead GitLab userid: mmadhu\n",
    "* Group name: LuckyDucks\n",
    "* Team member names: Alexia Pardo Figueroa Dianderas, Madhumita Gowrishankar, Hongyuan Zhang, Lupeng Wang"
   ]
  },
  {
   "cell_type": "markdown",
   "metadata": {},
   "source": [
    "## Setup\n",
    "\n",
    "Please complete this python notebook with your group by answering the questions in `intuit-redux.pdf`. Create a Notebook and HTML file with all your results and comments and push both the Notebook and HTML file to GitLab when your team is done. All results MUST be reproducible (i.e., the TA and I must be able to recreate the HTML file from the Jupyter Notebook without changes or errors). This means that you should NOT use any python-packages that are not part of the rsm-msba-spark docker container.\n",
    "\n",
    "This is the second group assignment for MGTA 455 and you will be using Git and GitLab. If two people edit the same file at the same time you could get what is called a \"merge conflict\". This is not something serious but you should realize that Git will not decide for you who's change to accept so the team-lead will have to determine the edits to use. To avoid merge conflicts, **always** \"pull\" changes from the repo before you start working on any files. Then, when you are done, save and commit your changes, and then push them to GitLab. Make \"pull first\" a habit!\n",
    "\n",
    "If multiple people are going to work on the assignment at the same time I recommend you work in different notebooks. You can then `%run ...`  these \"sub\" notebooks from the main assignment file. You can seen an example of this in action below for the `model1.ipynb` notebook\n",
    "\n",
    "Some group work-flow tips:\n",
    "\n",
    "* Pull, edit, save, stage, commit, and push\n",
    "* Schedule who does what and when\n",
    "* Try to avoid working simultaneously on the same file \n",
    "* If you are going to work simultaneously, do it in different notebooks, e.g., \n",
    "    - model1.ipynb, model2.ipynb, model3.ipynb\n",
    "* Use the `%run ... ` command to bring different pieces of code together into the main jupyter notebook\n",
    "* Put python functions in modules that you can import from your notebooks. See the example below for the `example` function defined in `utils/functions.py`\n",
    "\n",
    "A graphical depiction of the group work-flow is shown below:\n",
    "\n",
    "![](images/git-group-workflow-wbg.png)\n",
    "\n",
    "Tutorial videos about using Git, GitLab, and GitGadget for group assignments:\n",
    "\n",
    "* Setup the MSBA server to use Git and GitLab: https://youtu.be/zJHwodmjatY\n",
    "* Dealing with Merge Conflicts: https://youtu.be/qFnyb8_rgTI\n",
    "* Group assignment practice: https://youtu.be/4Ty_94gIWeA"
   ]
  },
  {
   "cell_type": "code",
   "execution_count": 1,
   "metadata": {},
   "outputs": [],
   "source": [
    "# Package Imports \n",
    "import numpy as np\n",
    "import pandas as pd\n",
    "import pyrsm as rsm\n",
    "import matplotlib as mpl\n",
    "import matplotlib.pyplot as plt\n",
    "import scipy.stats as stats\n",
    "import seaborn as sns\n",
    "import statsmodels.api as sm\n",
    "import statsmodels.formula.api as smf\n",
    "import statsmodels.stats as sms\n",
    "from statsmodels.genmod.families import Binomial\n",
    "from statsmodels.genmod.families.links import logit\n",
    "from sklearn import preprocessing\n",
    "from sklearn.inspection import permutation_importance\n",
    "from sklearn.neural_network import MLPClassifier\n",
    "from sklearn.model_selection import GridSearchCV, cross_val_score, train_test_split\n",
    "from sklearn import metrics\n",
    "# Importing packages for XGboost\n",
    "from math import sqrt\n",
    "import graphviz\n",
    "import xgboost as xgb\n",
    "from sklearn import metrics, tree\n",
    "from sklearn.ensemble import RandomForestClassifier\n",
    "from sklearn.linear_model import LogisticRegression\n",
    "from sklearn.model_selection import (\n",
    "    ShuffleSplit,\n",
    "    StratifiedShuffleSplit,\n",
    ")\n",
    "from sklearn.preprocessing import StandardScaler\n",
    "from sklearn.tree import DecisionTreeClassifier"
   ]
  },
  {
   "cell_type": "code",
   "execution_count": 2,
   "metadata": {},
   "outputs": [],
   "source": [
    "## loading the data - this dataset must NOT be changed\n",
    "data = pd.read_pickle(\"data/intuit75k.pkl\")\n",
    "data[\"res1_yes\"] = rsm.ifelse(data.res1 == \"Yes\", 1, 0)\n",
    "data_train, data_test = data[data.training == 1], data[data.training == 0]\n",
    "# data.head()"
   ]
  },
  {
   "cell_type": "code",
   "execution_count": 3,
   "metadata": {},
   "outputs": [],
   "source": [
    "#breakeven\n",
    "cost = 1.41\n",
    "margin = 60\n",
    "breakeven = cost/margin"
   ]
  },
  {
   "cell_type": "code",
   "execution_count": 4,
   "metadata": {},
   "outputs": [
    {
     "data": {
      "text/markdown": [
       "## Intuit: Quickbooks upgrade\n",
       "\n",
       "The purpose of this exercise is to gain experience modeling the response to an upsell campaign. The `intuit75k.rds` file contains data on 75,000 (small) businesses that were selected randomly from the 801,821 that were sent the wave-1 mailing. The mailing contained an offer to upgrade to the latest version of the Quickbooks software. \n",
       "\n",
       "Variable `res1` denotes which of these businesses responded to the mailing by purchasing Quickbooks version 3.0 from Intuit Direct. Note that Intuit Direct sells products directly to its customers rather than through a retailer. Use the available data to predict which businesses that did not respond to the wave-1 mailing, are most likely to respond to the wave-2 mailing. Note that variables were added, deleted, and recoded so please ignore the variable descriptions in Exhibit 3 in the case in the course reader. Instead, use the variable descriptions below:\n",
       "\n",
       "## Variable description\n",
       "\n",
       "* id: Small business customer ID\n",
       "* zip: 5-Digit ZIP Code (00000=unknown, 99999=international ZIPs).\n",
       "* zip_bins: Zip-code bins (20 approx. equal sized bins from lowest to highest zip code number)\n",
       "* sex: \"Female\", \"Male\", or \"Unknown\"\n",
       "* bizflag: Business Flag.  Address contains a Business name (1 = yes, 0 = no or unknown).\n",
       "* numords: Number of orders from Intuit Direct in the previous 36 months\n",
       "* dollars: Total $ ordered from Intuit Direct in the previous 36 months\n",
       "* last: Time (in months) since last order from Intuit Direct in previous 36 months\n",
       "* sincepurch: Time (in months) since original (not upgrade) purchase of Quickbooks\n",
       "* version1: Is 1 if customer's current Quickbooks is version 1, 0 if version 2\n",
       "* owntaxprod: Is 1 if customer purchased tax software, 0 otherwise\n",
       "* upgraded: Is 1 if customer upgraded from Quickbooks vs. 1 to vs. 2\n",
       "* res1: Response to wave 1 mailing (\"Yes\" if responded else \"No\")\n",
       "* training: 70/30 split, 1 for training sample, 0 for validation sample\n"
      ],
      "text/plain": [
       "<IPython.core.display.Markdown object>"
      ]
     },
     "metadata": {},
     "output_type": "display_data"
    }
   ],
   "source": [
    "# show dataset description\n",
    "rsm.describe(data)"
   ]
  },
  {
   "cell_type": "code",
   "execution_count": 5,
   "metadata": {},
   "outputs": [],
   "source": [
    "#Making the zip bins as categorical variables\n",
    "data['zip_bins'] = pd.Categorical(data.zip_bins)"
   ]
  },
  {
   "cell_type": "code",
   "execution_count": 6,
   "metadata": {},
   "outputs": [
    {
     "data": {
      "text/plain": [
       "<AxesSubplot:xlabel='zip_bins', ylabel=\"Proportion of res1_yes equal to '1'\">"
      ]
     },
     "execution_count": 6,
     "metadata": {},
     "output_type": "execute_result"
    },
    {
     "data": {
      "image/png": "[encoded data removed]",
      "text/plain": [
       "<Figure size 432x288 with 1 Axes>"
      ]
     },
     "metadata": {
      "needs_background": "light"
     },
     "output_type": "display_data"
    }
   ],
   "source": [
    "#Zip bins wise response rate\n",
    "rsm.prop_plot(data, \"zip_bins\", \"res1_yes\", 1)"
   ]
  },
  {
   "cell_type": "code",
   "execution_count": 7,
   "metadata": {},
   "outputs": [
    {
     "data": {
      "text/html": [
       "<div>\n",
       "<style scoped>\n",
       "    .dataframe tbody tr th:only-of-type {\n",
       "        vertical-align: middle;\n",
       "    }\n",
       "\n",
       "    .dataframe tbody tr th {\n",
       "        vertical-align: top;\n",
       "    }\n",
       "\n",
       "    .dataframe thead th {\n",
       "        text-align: right;\n",
       "    }\n",
       "</style>\n",
       "<table border=\"1\" class=\"dataframe\">\n",
       "  <thead>\n",
       "    <tr style=\"text-align: right;\">\n",
       "      <th>res1</th>\n",
       "      <th>Yes</th>\n",
       "      <th>No</th>\n",
       "    </tr>\n",
       "    <tr>\n",
       "      <th>zip</th>\n",
       "      <th></th>\n",
       "      <th></th>\n",
       "    </tr>\n",
       "  </thead>\n",
       "  <tbody>\n",
       "    <tr>\n",
       "      <th>00801</th>\n",
       "      <td>19.46%</td>\n",
       "      <td>1.39%</td>\n",
       "    </tr>\n",
       "    <tr>\n",
       "      <th>00804</th>\n",
       "      <td>1.8%</td>\n",
       "      <td>0.16%</td>\n",
       "    </tr>\n",
       "  </tbody>\n",
       "</table>\n",
       "</div>"
      ],
      "text/plain": [
       "res1      Yes     No\n",
       "zip                 \n",
       "00801  19.46%  1.39%\n",
       "00804    1.8%  0.16%"
      ]
     },
     "execution_count": 7,
     "metadata": {},
     "output_type": "execute_result"
    }
   ],
   "source": [
    "pd.crosstab(data.loc[data.training == 1,\"zip\"],\n",
    "           data.loc[data.training == 1,\"res1\"],\n",
    "           normalize = \"columns\",\n",
    "           ).sort_values(\"Yes\", ascending=False).apply(\n",
    "lambda x:(100*x).round(2).astype(str) + \"%\").head(2)"
   ]
  },
  {
   "cell_type": "code",
   "execution_count": 8,
   "metadata": {},
   "outputs": [],
   "source": [
    "# Having Zipbins 801 and 804 as separate features\n",
    "data = data.assign(zip801 = (data.zip == \"00801\").astype(int),\n",
    "                  zip804 = (data.zip == \"00804\").astype(int),\n",
    "                  )\n",
    "data_train, data_test = data[data.training == 1], data[data.training == 0]"
   ]
  },
  {
   "cell_type": "markdown",
   "metadata": {},
   "source": [
    "## Neural Network Model with 1 hidden layer"
   ]
  },
  {
   "cell_type": "code",
   "execution_count": 9,
   "metadata": {},
   "outputs": [],
   "source": [
    "#Defing the response and explanatory variables\n",
    "rvar = \"res1_yes\"\n",
    "evar = [\n",
    "   \"zip_bins\",\n",
    "    \"zip801\",\n",
    "    \"zip804\",\n",
    "    \"bizflag\",\n",
    "    \"numords\",\n",
    "    \"dollars\",\n",
    "    \"last\",\n",
    "    \"sincepurch\", \n",
    "    \"version1\",\n",
    "    \"owntaxprod\",\n",
    "    \"upgraded\"\n",
    "]\n",
    "idvar = \"id\"\n",
    "lev = \"Yes\""
   ]
  },
  {
   "cell_type": "code",
   "execution_count": 10,
   "metadata": {},
   "outputs": [],
   "source": [
    "X = data[evar].copy()\n",
    "y = data[rvar]"
   ]
  },
  {
   "cell_type": "code",
   "execution_count": 11,
   "metadata": {},
   "outputs": [],
   "source": [
    "training = data['training']"
   ]
  },
  {
   "cell_type": "code",
   "execution_count": 12,
   "metadata": {},
   "outputs": [],
   "source": [
    "#Categorizing columns\n",
    "X[\"version1\"] = X[\"version1\"].astype(str)\n",
    "X[\"owntaxprod\"] = X[\"owntaxprod\"].astype(str)\n",
    "X[\"upgraded\"] = X[\"upgraded\"].astype(str)\n",
    "X[\"bizflag\"] = X[\"bizflag\"].astype(str)\n",
    "X[\"zip801\"] = X[\"zip801\"].astype(str)\n",
    "X[\"zip804\"] = X[\"zip804\"].astype(str)\n"
   ]
  },
  {
   "cell_type": "markdown",
   "metadata": {},
   "source": [
    "By passing information about the training variable to `rsm.scale_df` the variables will be scaled using *only* information from the training sample and you will retain the column headers"
   ]
  },
  {
   "cell_type": "code",
   "execution_count": 13,
   "metadata": {},
   "outputs": [],
   "source": [
    "#Scaling and standardizing the numeric variables\n",
    "Xs = rsm.scale_df(X, train=data.training == 1, excl= \"training\") #[\"sex\", \"version1\", 'owntaxprod', 'upgrade'])"
   ]
  },
  {
   "cell_type": "code",
   "execution_count": 14,
   "metadata": {},
   "outputs": [],
   "source": [
    "#Defining Neural Network with 1 hidden layer (instead of logistic regression)\n",
    "clf = MLPClassifier(\n",
    "    activation=\"relu\",\n",
    "    solver=\"lbfgs\",\n",
    "    alpha=0.001,\n",
    "    hidden_layer_sizes=(1,),\n",
    "    random_state=1234,\n",
    "    max_iter=10000,\n",
    ").fit(Xs[training == 1], y[training == 1])"
   ]
  },
  {
   "cell_type": "code",
   "execution_count": 15,
   "metadata": {},
   "outputs": [],
   "source": [
    "#Creating eval_data to store eval_bin outputs\n",
    "eval_dat = data[[idvar, rvar]].copy()\n",
    "eval_dat[\"training\"] = data[\"training\"]"
   ]
  },
  {
   "cell_type": "code",
   "execution_count": 16,
   "metadata": {},
   "outputs": [
    {
     "name": "stderr",
     "output_type": "stream",
     "text": [
      "/usr/local/lib/python3.8/dist-packages/sklearn/utils/validation.py:63: FutureWarning: Arrays of bytes/strings is being converted to decimal numbers if dtype='numeric'. This behavior is deprecated in 0.24 and will be removed in 1.1 (renaming of 0.26). Please convert your data to numeric values explicitly instead.\n",
      "  return f(*args, **kwargs)\n"
     ]
    }
   ],
   "source": [
    "#Predicting probablities using neural network with one hidden layer\n",
    "eval_dat[\"y_nn_1\"] = clf.predict_proba(Xs)[:, 1]"
   ]
  },
  {
   "cell_type": "code",
   "execution_count": 17,
   "metadata": {},
   "outputs": [
    {
     "data": {
      "text/html": [
       "<div>\n",
       "<style scoped>\n",
       "    .dataframe tbody tr th:only-of-type {\n",
       "        vertical-align: middle;\n",
       "    }\n",
       "\n",
       "    .dataframe tbody tr th {\n",
       "        vertical-align: top;\n",
       "    }\n",
       "\n",
       "    .dataframe thead th {\n",
       "        text-align: right;\n",
       "    }\n",
       "</style>\n",
       "<table border=\"1\" class=\"dataframe\">\n",
       "  <thead>\n",
       "    <tr style=\"text-align: right;\">\n",
       "      <th></th>\n",
       "      <th>Type</th>\n",
       "      <th>predictor</th>\n",
       "      <th>TP</th>\n",
       "      <th>FP</th>\n",
       "      <th>TN</th>\n",
       "      <th>FN</th>\n",
       "      <th>total</th>\n",
       "      <th>TPR</th>\n",
       "      <th>TNR</th>\n",
       "      <th>precision</th>\n",
       "      <th>Fscore</th>\n",
       "      <th>accuracy</th>\n",
       "      <th>kappa</th>\n",
       "      <th>profit</th>\n",
       "      <th>index</th>\n",
       "      <th>ROME</th>\n",
       "      <th>contact</th>\n",
       "      <th>AUC</th>\n",
       "    </tr>\n",
       "  </thead>\n",
       "  <tbody>\n",
       "    <tr>\n",
       "      <th>0</th>\n",
       "      <td>training</td>\n",
       "      <td>y_nn_1</td>\n",
       "      <td>2192</td>\n",
       "      <td>29619</td>\n",
       "      <td>20383</td>\n",
       "      <td>306</td>\n",
       "      <td>52500</td>\n",
       "      <td>0.878</td>\n",
       "      <td>0.408</td>\n",
       "      <td>0.069</td>\n",
       "      <td>0.128</td>\n",
       "      <td>0.430</td>\n",
       "      <td>0.043</td>\n",
       "      <td>86666.49</td>\n",
       "      <td>1.0</td>\n",
       "      <td>1.932</td>\n",
       "      <td>0.606</td>\n",
       "      <td>0.766</td>\n",
       "    </tr>\n",
       "    <tr>\n",
       "      <th>1</th>\n",
       "      <td>test</td>\n",
       "      <td>y_nn_1</td>\n",
       "      <td>964</td>\n",
       "      <td>12823</td>\n",
       "      <td>8574</td>\n",
       "      <td>139</td>\n",
       "      <td>22500</td>\n",
       "      <td>0.874</td>\n",
       "      <td>0.401</td>\n",
       "      <td>0.070</td>\n",
       "      <td>0.129</td>\n",
       "      <td>0.424</td>\n",
       "      <td>0.043</td>\n",
       "      <td>38400.33</td>\n",
       "      <td>1.0</td>\n",
       "      <td>1.975</td>\n",
       "      <td>0.613</td>\n",
       "      <td>0.765</td>\n",
       "    </tr>\n",
       "  </tbody>\n",
       "</table>\n",
       "</div>"
      ],
      "text/plain": [
       "       Type predictor    TP     FP     TN   FN  total    TPR    TNR  \\\n",
       "0  training    y_nn_1  2192  29619  20383  306  52500  0.878  0.408   \n",
       "1      test    y_nn_1   964  12823   8574  139  22500  0.874  0.401   \n",
       "\n",
       "   precision  Fscore  accuracy  kappa    profit  index   ROME  contact    AUC  \n",
       "0      0.069   0.128     0.430  0.043  86666.49    1.0  1.932    0.606  0.766  \n",
       "1      0.070   0.129     0.424  0.043  38400.33    1.0  1.975    0.613  0.765  "
      ]
     },
     "execution_count": 17,
     "metadata": {},
     "output_type": "execute_result"
    }
   ],
   "source": [
    "#eval bin results\n",
    "dct = {\n",
    "    \"training\": eval_dat[eval_dat.training == 1],\n",
    "    \"test\": eval_dat[eval_dat.training == 0],\n",
    "}\n",
    "rsm.evalbin(\n",
    "    dct, \"res1_yes\", 1, [\"y_nn_1\"], cost= cost, margin= margin\n",
    ")"
   ]
  },
  {
   "cell_type": "code",
   "execution_count": 18,
   "metadata": {},
   "outputs": [
    {
     "name": "stderr",
     "output_type": "stream",
     "text": [
      "/usr/local/lib/python3.8/dist-packages/sklearn/utils/validation.py:63: FutureWarning: Arrays of bytes/strings is being converted to decimal numbers if dtype='numeric'. This behavior is deprecated in 0.24 and will be removed in 1.1 (renaming of 0.26). Please convert your data to numeric values explicitly instead.\n",
      "  return f(*args, **kwargs)\n",
      "/usr/local/lib/python3.8/dist-packages/sklearn/utils/validation.py:63: FutureWarning: Arrays of bytes/strings is being converted to decimal numbers if dtype='numeric'. This behavior is deprecated in 0.24 and will be removed in 1.1 (renaming of 0.26). Please convert your data to numeric values explicitly instead.\n",
      "  return f(*args, **kwargs)\n"
     ]
    }
   ],
   "source": [
    "# Predictions for test and train separately \n",
    "pred_train_nn1 = pd.DataFrame().assign(\n",
    "    actual=y[training == 1], pred=clf.predict_proba(X[training == 1])[:, 1]\n",
    ")\n",
    "pred_test_nn1 = pd.DataFrame().assign(actual=y[training == 0], pred=clf.predict_proba(X[training == 0])[:, 1])"
   ]
  },
  {
   "cell_type": "code",
   "execution_count": 19,
   "metadata": {},
   "outputs": [
    {
     "data": {
      "image/png": "[encoded data removed]",
      "text/plain": [
       "<Figure size 432x288 with 1 Axes>"
      ]
     },
     "metadata": {
      "needs_background": "light"
     },
     "output_type": "display_data"
    }
   ],
   "source": [
    "dct = {\"train\": pred_train_nn1, \"test\": pred_test_nn1}\n",
    "fig = rsm.gains_plot(dct, \"actual\", 1, \"pred\")\n",
    "fig = fig.legend(title=None)"
   ]
  },
  {
   "cell_type": "markdown",
   "metadata": {},
   "source": [
    "## Neural Network Model with 2 hidden layers"
   ]
  },
  {
   "cell_type": "code",
   "execution_count": 20,
   "metadata": {},
   "outputs": [],
   "source": [
    "#Standardized data \n",
    "data_std = rsm.scale_df(data, excl=[\"res1_yes\", \"training\", \"res1\", \"id\", \"zip\", \"bizflag\",\"version1\", \"owntaxprod\", \"upgraded\", \"zip801\", \"zip804\"])\n",
    "X = pd.concat(\n",
    "    [\n",
    "        pd.get_dummies(data_std[[\"zip_bins\", \"sex\"]], drop_first=True),\n",
    "        data_std[[\"bizflag\", \"numords\", \"dollars\", \"last\", \"sincepurch\", \"version1\", \"owntaxprod\", \"upgraded\", \"zip801\", \"zip804\"]],\n",
    "    ],\n",
    "    axis=1,\n",
    ")\n",
    "y = data.res1_yes"
   ]
  },
  {
   "cell_type": "code",
   "execution_count": 21,
   "metadata": {},
   "outputs": [],
   "source": [
    "#Defining Neural Network and feature importance functions\n",
    "def nn(X, y, hlsizes=(1,), alpha=0.001, max_iter=1000):\n",
    "    return MLPClassifier(\n",
    "        activation=\"relu\",\n",
    "        solver=\"lbfgs\",\n",
    "        hidden_layer_sizes=hlsizes,\n",
    "        alpha=alpha,\n",
    "        random_state=1234,\n",
    "        max_iter=max_iter,\n",
    "    ).fit(X, y)\n",
    "\n",
    "def importance(clf, X, y, cn):\n",
    "    imp = permutation_importance(\n",
    "        clf, X, y, scoring=\"roc_auc\", n_repeats=10, random_state=1234\n",
    "    )\n",
    "    data = pd.DataFrame(imp.importances.T)\n",
    "    if cn is not None:\n",
    "        data.columns = cn\n",
    "    order = data.agg(\"mean\").sort_values(ascending=False).index\n",
    "    fig = sns.barplot(\n",
    "        x=\"value\", y=\"variable\", color=\"slateblue\", data=pd.melt(data[order])\n",
    "    )\n",
    "    fig.set(title=\"Permutation Importances\", xlabel=None, ylabel=None)\n",
    "    return fig"
   ]
  },
  {
   "cell_type": "code",
   "execution_count": 22,
   "metadata": {},
   "outputs": [
    {
     "data": {
      "image/png": "[encoded data removed]",
      "text/plain": [
       "<Figure size 432x288 with 1 Axes>"
      ]
     },
     "metadata": {
      "needs_background": "light"
     },
     "output_type": "display_data"
    }
   ],
   "source": [
    "#Predicting based on 2 layer neural network\n",
    "clf = nn(X[training == 1], y[training == 1], hlsizes=(2,))\n",
    "data_std[\"pred_nn2\"] = clf.predict_proba(X)[:, 1]\n",
    "eval_dat[\"pred_nn2\"]= clf.predict_proba(X)[:, 1]\n",
    "fig = importance(clf, X[training == 1], y[training == 1], X[training == 1].columns)"
   ]
  },
  {
   "cell_type": "code",
   "execution_count": 23,
   "metadata": {},
   "outputs": [
    {
     "data": {
      "text/html": [
       "<div>\n",
       "<style scoped>\n",
       "    .dataframe tbody tr th:only-of-type {\n",
       "        vertical-align: middle;\n",
       "    }\n",
       "\n",
       "    .dataframe tbody tr th {\n",
       "        vertical-align: top;\n",
       "    }\n",
       "\n",
       "    .dataframe thead th {\n",
       "        text-align: right;\n",
       "    }\n",
       "</style>\n",
       "<table border=\"1\" class=\"dataframe\">\n",
       "  <thead>\n",
       "    <tr style=\"text-align: right;\">\n",
       "      <th></th>\n",
       "      <th>Type</th>\n",
       "      <th>predictor</th>\n",
       "      <th>TP</th>\n",
       "      <th>FP</th>\n",
       "      <th>TN</th>\n",
       "      <th>FN</th>\n",
       "      <th>total</th>\n",
       "      <th>TPR</th>\n",
       "      <th>TNR</th>\n",
       "      <th>precision</th>\n",
       "      <th>Fscore</th>\n",
       "      <th>accuracy</th>\n",
       "      <th>kappa</th>\n",
       "      <th>profit</th>\n",
       "      <th>index</th>\n",
       "      <th>ROME</th>\n",
       "      <th>contact</th>\n",
       "      <th>AUC</th>\n",
       "    </tr>\n",
       "  </thead>\n",
       "  <tbody>\n",
       "    <tr>\n",
       "      <th>0</th>\n",
       "      <td>All</td>\n",
       "      <td>pred_nn2</td>\n",
       "      <td>957</td>\n",
       "      <td>12406</td>\n",
       "      <td>8991</td>\n",
       "      <td>146</td>\n",
       "      <td>22500</td>\n",
       "      <td>0.867634</td>\n",
       "      <td>0.420199</td>\n",
       "      <td>0.071616</td>\n",
       "      <td>0.13231</td>\n",
       "      <td>0.442133</td>\n",
       "      <td>0.045898</td>\n",
       "      <td>38578.17</td>\n",
       "      <td>1.0</td>\n",
       "      <td>2.047475</td>\n",
       "      <td>0.593911</td>\n",
       "      <td>0.766386</td>\n",
       "    </tr>\n",
       "  </tbody>\n",
       "</table>\n",
       "</div>"
      ],
      "text/plain": [
       "  Type predictor   TP     FP    TN   FN  total       TPR       TNR  precision  \\\n",
       "0  All  pred_nn2  957  12406  8991  146  22500  0.867634  0.420199   0.071616   \n",
       "\n",
       "    Fscore  accuracy     kappa    profit  index      ROME   contact       AUC  \n",
       "0  0.13231  0.442133  0.045898  38578.17    1.0  2.047475  0.593911  0.766386  "
      ]
     },
     "execution_count": 23,
     "metadata": {},
     "output_type": "execute_result"
    }
   ],
   "source": [
    "#Eval bin for neural network with 2 hidden layers\n",
    "rsm.evalbin(eval_dat[eval_dat.training == 0], \"res1_yes\", 1, \"pred_nn2\", cost= cost, margin= margin, dec=6)"
   ]
  },
  {
   "cell_type": "code",
   "execution_count": 24,
   "metadata": {},
   "outputs": [],
   "source": [
    "# Predictions for test and train separately \n",
    "pred_train_nn2 = pd.DataFrame().assign(\n",
    "    actual=y[training == 1], pred=clf.predict_proba(X[training == 1])[:, 1]\n",
    ")\n",
    "pred_test_nn2 = pd.DataFrame().assign(actual=y[training == 0], pred=clf.predict_proba(X[training == 0])[:, 1])"
   ]
  },
  {
   "cell_type": "code",
   "execution_count": 25,
   "metadata": {},
   "outputs": [
    {
     "data": {
      "image/png": "[encoded data removed]",
      "text/plain": [
       "<Figure size 432x288 with 1 Axes>"
      ]
     },
     "metadata": {
      "needs_background": "light"
     },
     "output_type": "display_data"
    }
   ],
   "source": [
    "dct = {\"train\": pred_train_nn2, \"test\": pred_test_nn2}\n",
    "fig = rsm.gains_plot(dct, \"actual\", 1, \"pred\")\n",
    "fig = fig.legend(title=None)"
   ]
  },
  {
   "cell_type": "code",
   "execution_count": 26,
   "metadata": {},
   "outputs": [
    {
     "name": "stdout",
     "output_type": "stream",
     "text": [
      "Fitting 5 folds for each of 2 candidates, totalling 10 fits\n"
     ]
    },
    {
     "data": {
      "text/plain": [
       "GridSearchCV(cv=5,\n",
       "             estimator=MLPClassifier(alpha=0.001, hidden_layer_sizes=(1,),\n",
       "                                     max_iter=1000, random_state=1234,\n",
       "                                     solver='lbfgs'),\n",
       "             n_jobs=4, param_grid={'hidden_layer_sizes': [(2,), (3,)]},\n",
       "             refit='AUC', scoring={'AUC': 'roc_auc'}, verbose=5)"
      ]
     },
     "execution_count": 26,
     "metadata": {},
     "output_type": "execute_result"
    }
   ],
   "source": [
    "#Fine tuning paramters for neural network\n",
    "hls = [(2,), (3,)]\n",
    "clf = nn(X[training == 1], y[training == 1], (1,))\n",
    "\n",
    "param_grid = {\"hidden_layer_sizes\": hls}\n",
    "scoring = {\"AUC\": \"roc_auc\"}\n",
    "\n",
    "clf_cv = GridSearchCV(\n",
    "    clf, param_grid, scoring=scoring, cv=5, n_jobs=4, refit=\"AUC\", verbose=5\n",
    ")\n",
    "clf_cv.fit(X[training == 1], y[training == 1])"
   ]
  },
  {
   "cell_type": "code",
   "execution_count": 27,
   "metadata": {},
   "outputs": [
    {
     "data": {
      "text/plain": [
       "{'hidden_layer_sizes': (2,)}"
      ]
     },
     "execution_count": 27,
     "metadata": {},
     "output_type": "execute_result"
    }
   ],
   "source": [
    "# Best parameters selected after fine tuning\n",
    "clf_cv.best_params_"
   ]
  },
  {
   "cell_type": "markdown",
   "metadata": {},
   "source": [
    "## Neural Network Model with 3 hidden layers"
   ]
  },
  {
   "cell_type": "code",
   "execution_count": 28,
   "metadata": {},
   "outputs": [
    {
     "data": {
      "image/png": "[encoded data removed]",
      "text/plain": [
       "<Figure size 432x288 with 1 Axes>"
      ]
     },
     "metadata": {
      "needs_background": "light"
     },
     "output_type": "display_data"
    }
   ],
   "source": [
    "# Neural Network for 3 hidden layers\n",
    "clf = nn(X[training == 1], y[training == 1], hlsizes=(3,))\n",
    "eval_dat[\"pred_nn3\"]= clf.predict_proba(X)[:, 1]\n",
    "fig = importance(clf, X[training == 1], y[training == 1], X[training == 1].columns)"
   ]
  },
  {
   "cell_type": "code",
   "execution_count": 29,
   "metadata": {},
   "outputs": [
    {
     "data": {
      "text/html": [
       "<div>\n",
       "<style scoped>\n",
       "    .dataframe tbody tr th:only-of-type {\n",
       "        vertical-align: middle;\n",
       "    }\n",
       "\n",
       "    .dataframe tbody tr th {\n",
       "        vertical-align: top;\n",
       "    }\n",
       "\n",
       "    .dataframe thead th {\n",
       "        text-align: right;\n",
       "    }\n",
       "</style>\n",
       "<table border=\"1\" class=\"dataframe\">\n",
       "  <thead>\n",
       "    <tr style=\"text-align: right;\">\n",
       "      <th></th>\n",
       "      <th>Type</th>\n",
       "      <th>predictor</th>\n",
       "      <th>TP</th>\n",
       "      <th>FP</th>\n",
       "      <th>TN</th>\n",
       "      <th>FN</th>\n",
       "      <th>total</th>\n",
       "      <th>TPR</th>\n",
       "      <th>TNR</th>\n",
       "      <th>precision</th>\n",
       "      <th>Fscore</th>\n",
       "      <th>accuracy</th>\n",
       "      <th>kappa</th>\n",
       "      <th>profit</th>\n",
       "      <th>index</th>\n",
       "      <th>ROME</th>\n",
       "      <th>contact</th>\n",
       "      <th>AUC</th>\n",
       "    </tr>\n",
       "  </thead>\n",
       "  <tbody>\n",
       "    <tr>\n",
       "      <th>0</th>\n",
       "      <td>All</td>\n",
       "      <td>pred_nn3</td>\n",
       "      <td>937</td>\n",
       "      <td>11661</td>\n",
       "      <td>9736</td>\n",
       "      <td>166</td>\n",
       "      <td>22500</td>\n",
       "      <td>0.849501</td>\n",
       "      <td>0.455017</td>\n",
       "      <td>0.074377</td>\n",
       "      <td>0.136778</td>\n",
       "      <td>0.474356</td>\n",
       "      <td>0.051247</td>\n",
       "      <td>38456.82</td>\n",
       "      <td>1.0</td>\n",
       "      <td>2.164974</td>\n",
       "      <td>0.559911</td>\n",
       "      <td>0.76493</td>\n",
       "    </tr>\n",
       "  </tbody>\n",
       "</table>\n",
       "</div>"
      ],
      "text/plain": [
       "  Type predictor   TP     FP    TN   FN  total       TPR       TNR  precision  \\\n",
       "0  All  pred_nn3  937  11661  9736  166  22500  0.849501  0.455017   0.074377   \n",
       "\n",
       "     Fscore  accuracy     kappa    profit  index      ROME   contact      AUC  \n",
       "0  0.136778  0.474356  0.051247  38456.82    1.0  2.164974  0.559911  0.76493  "
      ]
     },
     "execution_count": 29,
     "metadata": {},
     "output_type": "execute_result"
    }
   ],
   "source": [
    "#eval bin for neural network with 3 hidden layers\n",
    "rsm.evalbin(eval_dat[eval_dat.training == 0], \"res1_yes\", 1, \"pred_nn3\", cost= cost, margin= margin, dec=6)"
   ]
  },
  {
   "cell_type": "code",
   "execution_count": 30,
   "metadata": {},
   "outputs": [],
   "source": [
    "#Prediction based on neural network with 3 hidden layers\n",
    "pred_train_nn3 = pd.DataFrame().assign(\n",
    "    actual=y[training == 1], pred=clf.predict_proba(X[training == 1])[:, 1]\n",
    ")\n",
    "pred_test_nn3 = pd.DataFrame().assign(actual=y[training == 0], pred=clf.predict_proba(X[training == 0])[:, 1])"
   ]
  },
  {
   "cell_type": "code",
   "execution_count": 31,
   "metadata": {},
   "outputs": [
    {
     "data": {
      "image/png": "[encoded data removed]",
      "text/plain": [
       "<Figure size 432x288 with 1 Axes>"
      ]
     },
     "metadata": {
      "needs_background": "light"
     },
     "output_type": "display_data"
    }
   ],
   "source": [
    "dct = {\"train\": pred_train_nn3, \"test\": pred_test_nn3}\n",
    "fig = rsm.gains_plot(dct, \"actual\", 1, \"pred\")\n",
    "fig = fig.legend(title=None)"
   ]
  },
  {
   "cell_type": "markdown",
   "metadata": {},
   "source": [
    "## XGBoost"
   ]
  },
  {
   "cell_type": "code",
   "execution_count": 32,
   "metadata": {},
   "outputs": [],
   "source": [
    "## Copying data in dataframe data \n",
    "intuit75k = pd.read_pickle(\"data/intuit75k.pkl\")\n",
    "intuit75k[\"res1_yes\"] = (intuit75k[\"res1\"] == \"Yes\").astype(int)\n",
    "data = intuit75k[['zip','zip_bins','numords','dollars','last','version1','owntaxprod','upgraded','res1','training','res1_yes','sincepurch','bizflag','sex']].copy()"
   ]
  },
  {
   "cell_type": "code",
   "execution_count": 33,
   "metadata": {},
   "outputs": [],
   "source": [
    "data = data.assign(zip801 = (data.zip == \"00801\").astype(int),\n",
    "                  zip804 = (data.zip == \"00804\").astype(int),\n",
    "                  )"
   ]
  },
  {
   "cell_type": "code",
   "execution_count": 34,
   "metadata": {},
   "outputs": [],
   "source": [
    "#Converting the required explanatory variables to category\n",
    "data[\"zip_bins\"] = data[\"zip_bins\"].astype('category')\n",
    "data[\"version1\"] = data[\"version1\"].astype('category')\n",
    "data[\"owntaxprod\"] = data[\"owntaxprod\"].astype('category')\n",
    "data[\"upgraded\"] = data[\"upgraded\"].astype('category')\n",
    "data['zip801'] = data['zip801'].astype('category')\n",
    "data['zip804'] = data['zip804'].astype('category')\n",
    "data['sex'] = data['sex'].astype('category')\n",
    "data['bizflag'] = data['bizflag'].astype('category')"
   ]
  },
  {
   "cell_type": "code",
   "execution_count": 35,
   "metadata": {},
   "outputs": [],
   "source": [
    "#Selecting variables to standardize\n",
    "to_std = data.columns[[pd.api.types.is_numeric_dtype(data[col]) for col in data.columns]]\n",
    "to_std = rsm.setdiff(to_std, [\"training\", \"res1_yes\",\"id\"])"
   ]
  },
  {
   "cell_type": "code",
   "execution_count": 36,
   "metadata": {},
   "outputs": [],
   "source": [
    "#Standardizing the required variables\n",
    "data_std = data.copy()\n",
    "data_std[to_std] = rsm.scale_df(data_std[to_std], sf=1, train=data_std.training == 1)"
   ]
  },
  {
   "cell_type": "code",
   "execution_count": 37,
   "metadata": {},
   "outputs": [],
   "source": [
    "#Choosing the required explanatory variables for the model\n",
    "X = pd.concat(\n",
    "    [\n",
    "        pd.get_dummies(data_std[[\"zip_bins\", \"version1\", \"owntaxprod\", \"zip801\",'zip804', \"upgraded\",'sex','bizflag']], drop_first=True),\n",
    "        data_std[\"numords\"],\n",
    "        data_std[\"last\"],\n",
    "        data_std[\"dollars\"],        \n",
    "        data_std['sincepurch']        \n",
    "    ],\n",
    "    axis=1,\n",
    ")\n",
    "y = data_std.res1_yes"
   ]
  },
  {
   "cell_type": "code",
   "execution_count": 38,
   "metadata": {},
   "outputs": [
    {
     "name": "stdout",
     "output_type": "stream",
     "text": [
      "[21:43:57] WARNING: ../src/learner.cc:573: \n",
      "Parameters: { \"early_stopping_rounds\" } might not be used.\n",
      "\n",
      "  This may not be accurate due to some parameters are only used in language bindings but\n",
      "  passed down to XGBoost core.  Or some parameters are not used but slip through this\n",
      "  verification. Please open an issue if you find above cases.\n",
      "\n",
      "\n"
     ]
    }
   ],
   "source": [
    "#Basic XG boost model without fine tuning the hyperparameters\n",
    "clf = xgb.XGBClassifier(\n",
    "    max_depth=3,\n",
    "    n_estimators=100,\n",
    "    objective=\"binary:logistic\",\n",
    "    use_label_encoder=False,\n",
    "    early_stopping_rounds=10,\n",
    "    eval_metric=\"auc\",\n",
    "    random_state=1234,\n",
    ").fit(X[data_std['training'] == 1], y[data_std['training'] == 1], verbose=True)"
   ]
  },
  {
   "cell_type": "code",
   "execution_count": 39,
   "metadata": {},
   "outputs": [
    {
     "name": "stderr",
     "output_type": "stream",
     "text": [
      "/usr/local/lib/python3.8/dist-packages/xgboost/data.py:112: UserWarning: Use subset (sliced data) of np.ndarray is not recommended because it will generate extra copies and increase memory consumption\n",
      "  warnings.warn(\n"
     ]
    }
   ],
   "source": [
    "#Prediction using the basic XG boost model\n",
    "data_std[\"y_xgb\"] = clf.predict_proba(X)[:, 1]"
   ]
  },
  {
   "cell_type": "code",
   "execution_count": 40,
   "metadata": {},
   "outputs": [],
   "source": [
    "# XGBoost with cross-validation and grid search\n",
    "clf = xgb.XGBClassifier()\n",
    "param_grid = {\n",
    "    \"learning_rate\" : [0.1], #(0.01,0.1,0.5), \n",
    "    \"max_depth\": [3], # list(range(1, 5)),\n",
    "    \"n_estimators\": [100] #list(range(100,301,100))\n",
    "}\n",
    "scoring = {\"AUC\": \"roc_auc\"}"
   ]
  },
  {
   "cell_type": "code",
   "execution_count": 41,
   "metadata": {},
   "outputs": [
    {
     "name": "stdout",
     "output_type": "stream",
     "text": [
      "Fitting 5 folds for each of 1 candidates, totalling 5 fits\n"
     ]
    },
    {
     "name": "stderr",
     "output_type": "stream",
     "text": [
      "/usr/local/lib/python3.8/dist-packages/xgboost/sklearn.py:1146: UserWarning: The use of label encoder in XGBClassifier is deprecated and will be removed in a future release. To remove this warning, do the following: 1) Pass option use_label_encoder=False when constructing XGBClassifier object; and 2) Encode your labels (y) as integers starting with 0, i.e. 0, 1, 2, ..., [num_class - 1].\n",
      "  warnings.warn(label_encoder_deprecation_msg, UserWarning)\n"
     ]
    },
    {
     "name": "stdout",
     "output_type": "stream",
     "text": [
      "[21:44:49] WARNING: ../src/learner.cc:1095: Starting in XGBoost 1.3.0, the default evaluation metric used with the objective 'binary:logistic' was changed from 'error' to 'logloss'. Explicitly set eval_metric if you'd like to restore the old behavior.\n"
     ]
    }
   ],
   "source": [
    "#Finetuning the XG boost model with GridSearch\n",
    "clf_cv_xgb = GridSearchCV(\n",
    "    clf, param_grid, scoring=scoring, cv=5, n_jobs=4, refit=\"AUC\", verbose=5\n",
    ").fit(X[data_std['training'] == 1], y[data_std['training'] == 1])#early_stopping_rounds=10"
   ]
  },
  {
   "cell_type": "code",
   "execution_count": 42,
   "metadata": {},
   "outputs": [
    {
     "name": "stdout",
     "output_type": "stream",
     "text": [
      "{'learning_rate': 0.1, 'max_depth': 3, 'n_estimators': 100}\n",
      "0.770876683868046\n"
     ]
    }
   ],
   "source": [
    "#Getting the best tuned hyperparameters with the best AUC\n",
    "print(clf_cv_xgb.best_params_)\n",
    "print(clf_cv_xgb.best_score_)"
   ]
  },
  {
   "cell_type": "code",
   "execution_count": 43,
   "metadata": {},
   "outputs": [
    {
     "name": "stderr",
     "output_type": "stream",
     "text": [
      "/usr/local/lib/python3.8/dist-packages/xgboost/data.py:112: UserWarning: Use subset (sliced data) of np.ndarray is not recommended because it will generate extra copies and increase memory consumption\n",
      "  warnings.warn(\n"
     ]
    }
   ],
   "source": [
    "#Prediction using the tuned XGboost\n",
    "data_std[\"y_xgb_cv\"] = clf_cv_xgb.predict_proba(X)[:, 1]\n",
    "eval_dat[\"y_xgb_cv\"] = clf_cv_xgb.predict_proba(X)[:, 1]"
   ]
  },
  {
   "cell_type": "code",
   "execution_count": 44,
   "metadata": {},
   "outputs": [
    {
     "name": "stderr",
     "output_type": "stream",
     "text": [
      "/usr/local/lib/python3.8/dist-packages/xgboost/data.py:112: UserWarning: Use subset (sliced data) of np.ndarray is not recommended because it will generate extra copies and increase memory consumption\n",
      "  warnings.warn(\n",
      "/usr/local/lib/python3.8/dist-packages/xgboost/data.py:112: UserWarning: Use subset (sliced data) of np.ndarray is not recommended because it will generate extra copies and increase memory consumption\n",
      "  warnings.warn(\n"
     ]
    }
   ],
   "source": [
    "# Predictions for test and train separately \n",
    "pred_train_xgb = pd.DataFrame().assign(\n",
    "    actual=y[training == 1], pred=clf_cv_xgb.predict_proba(X[training == 1])[:, 1]\n",
    ")\n",
    "pred_test_xgb = pd.DataFrame().assign(actual=y[training == 0], pred=clf_cv_xgb.predict_proba(X[training == 0])[:, 1])"
   ]
  },
  {
   "cell_type": "code",
   "execution_count": 45,
   "metadata": {},
   "outputs": [
    {
     "data": {
      "image/png": "[encoded data removed]",
      "text/plain": [
       "<Figure size 432x288 with 1 Axes>"
      ]
     },
     "metadata": {
      "needs_background": "light"
     },
     "output_type": "display_data"
    }
   ],
   "source": [
    "dct = {\"train\": pred_train_xgb, \"test\": pred_test_xgb}\n",
    "fig = rsm.gains_plot(dct, \"actual\", 1, \"pred\")\n",
    "fig = fig.legend(title=None)"
   ]
  },
  {
   "cell_type": "markdown",
   "metadata": {},
   "source": [
    "## Model Evaluation"
   ]
  },
  {
   "cell_type": "code",
   "execution_count": 59,
   "metadata": {},
   "outputs": [
    {
     "data": {
      "text/html": [
       "<div>\n",
       "<style scoped>\n",
       "    .dataframe tbody tr th:only-of-type {\n",
       "        vertical-align: middle;\n",
       "    }\n",
       "\n",
       "    .dataframe tbody tr th {\n",
       "        vertical-align: top;\n",
       "    }\n",
       "\n",
       "    .dataframe thead th {\n",
       "        text-align: right;\n",
       "    }\n",
       "</style>\n",
       "<table border=\"1\" class=\"dataframe\">\n",
       "  <thead>\n",
       "    <tr style=\"text-align: right;\">\n",
       "      <th></th>\n",
       "      <th>Type</th>\n",
       "      <th>predictor</th>\n",
       "      <th>TP</th>\n",
       "      <th>FP</th>\n",
       "      <th>TN</th>\n",
       "      <th>FN</th>\n",
       "      <th>total</th>\n",
       "      <th>TPR</th>\n",
       "      <th>TNR</th>\n",
       "      <th>precision</th>\n",
       "      <th>Fscore</th>\n",
       "      <th>accuracy</th>\n",
       "      <th>kappa</th>\n",
       "      <th>profit</th>\n",
       "      <th>index</th>\n",
       "      <th>ROME</th>\n",
       "      <th>contact</th>\n",
       "      <th>AUC</th>\n",
       "    </tr>\n",
       "  </thead>\n",
       "  <tbody>\n",
       "    <tr>\n",
       "      <th>0</th>\n",
       "      <td>training</td>\n",
       "      <td>y_nn_1</td>\n",
       "      <td>2192</td>\n",
       "      <td>29619</td>\n",
       "      <td>20383</td>\n",
       "      <td>306</td>\n",
       "      <td>52500</td>\n",
       "      <td>0.878</td>\n",
       "      <td>0.408</td>\n",
       "      <td>0.069</td>\n",
       "      <td>0.128</td>\n",
       "      <td>0.430</td>\n",
       "      <td>0.043</td>\n",
       "      <td>86666.49</td>\n",
       "      <td>0.969</td>\n",
       "      <td>1.932</td>\n",
       "      <td>0.606</td>\n",
       "      <td>0.766</td>\n",
       "    </tr>\n",
       "    <tr>\n",
       "      <th>1</th>\n",
       "      <td>training</td>\n",
       "      <td>pred_nn2</td>\n",
       "      <td>2188</td>\n",
       "      <td>28804</td>\n",
       "      <td>21198</td>\n",
       "      <td>310</td>\n",
       "      <td>52500</td>\n",
       "      <td>0.876</td>\n",
       "      <td>0.424</td>\n",
       "      <td>0.071</td>\n",
       "      <td>0.131</td>\n",
       "      <td>0.445</td>\n",
       "      <td>0.047</td>\n",
       "      <td>87581.28</td>\n",
       "      <td>0.980</td>\n",
       "      <td>2.004</td>\n",
       "      <td>0.590</td>\n",
       "      <td>0.775</td>\n",
       "    </tr>\n",
       "    <tr>\n",
       "      <th>2</th>\n",
       "      <td>training</td>\n",
       "      <td>pred_nn3</td>\n",
       "      <td>2158</td>\n",
       "      <td>27169</td>\n",
       "      <td>22833</td>\n",
       "      <td>340</td>\n",
       "      <td>52500</td>\n",
       "      <td>0.864</td>\n",
       "      <td>0.457</td>\n",
       "      <td>0.074</td>\n",
       "      <td>0.136</td>\n",
       "      <td>0.476</td>\n",
       "      <td>0.053</td>\n",
       "      <td>88128.93</td>\n",
       "      <td>0.986</td>\n",
       "      <td>2.131</td>\n",
       "      <td>0.559</td>\n",
       "      <td>0.776</td>\n",
       "    </tr>\n",
       "    <tr>\n",
       "      <th>3</th>\n",
       "      <td>training</td>\n",
       "      <td>y_xgb_cv</td>\n",
       "      <td>2210</td>\n",
       "      <td>28431</td>\n",
       "      <td>21571</td>\n",
       "      <td>288</td>\n",
       "      <td>52500</td>\n",
       "      <td>0.885</td>\n",
       "      <td>0.431</td>\n",
       "      <td>0.072</td>\n",
       "      <td>0.133</td>\n",
       "      <td>0.453</td>\n",
       "      <td>0.050</td>\n",
       "      <td>89396.19</td>\n",
       "      <td>1.000</td>\n",
       "      <td>2.069</td>\n",
       "      <td>0.584</td>\n",
       "      <td>0.786</td>\n",
       "    </tr>\n",
       "    <tr>\n",
       "      <th>4</th>\n",
       "      <td>test</td>\n",
       "      <td>y_nn_1</td>\n",
       "      <td>964</td>\n",
       "      <td>12823</td>\n",
       "      <td>8574</td>\n",
       "      <td>139</td>\n",
       "      <td>22500</td>\n",
       "      <td>0.874</td>\n",
       "      <td>0.401</td>\n",
       "      <td>0.070</td>\n",
       "      <td>0.129</td>\n",
       "      <td>0.424</td>\n",
       "      <td>0.043</td>\n",
       "      <td>38400.33</td>\n",
       "      <td>0.993</td>\n",
       "      <td>1.975</td>\n",
       "      <td>0.613</td>\n",
       "      <td>0.765</td>\n",
       "    </tr>\n",
       "    <tr>\n",
       "      <th>5</th>\n",
       "      <td>test</td>\n",
       "      <td>pred_nn2</td>\n",
       "      <td>957</td>\n",
       "      <td>12406</td>\n",
       "      <td>8991</td>\n",
       "      <td>146</td>\n",
       "      <td>22500</td>\n",
       "      <td>0.868</td>\n",
       "      <td>0.420</td>\n",
       "      <td>0.072</td>\n",
       "      <td>0.132</td>\n",
       "      <td>0.442</td>\n",
       "      <td>0.046</td>\n",
       "      <td>38578.17</td>\n",
       "      <td>0.998</td>\n",
       "      <td>2.047</td>\n",
       "      <td>0.594</td>\n",
       "      <td>0.766</td>\n",
       "    </tr>\n",
       "    <tr>\n",
       "      <th>6</th>\n",
       "      <td>test</td>\n",
       "      <td>pred_nn3</td>\n",
       "      <td>937</td>\n",
       "      <td>11661</td>\n",
       "      <td>9736</td>\n",
       "      <td>166</td>\n",
       "      <td>22500</td>\n",
       "      <td>0.850</td>\n",
       "      <td>0.455</td>\n",
       "      <td>0.074</td>\n",
       "      <td>0.137</td>\n",
       "      <td>0.474</td>\n",
       "      <td>0.051</td>\n",
       "      <td>38456.82</td>\n",
       "      <td>0.995</td>\n",
       "      <td>2.165</td>\n",
       "      <td>0.560</td>\n",
       "      <td>0.765</td>\n",
       "    </tr>\n",
       "    <tr>\n",
       "      <th>7</th>\n",
       "      <td>test</td>\n",
       "      <td>y_xgb_cv</td>\n",
       "      <td>956</td>\n",
       "      <td>12301</td>\n",
       "      <td>9096</td>\n",
       "      <td>147</td>\n",
       "      <td>22500</td>\n",
       "      <td>0.867</td>\n",
       "      <td>0.425</td>\n",
       "      <td>0.072</td>\n",
       "      <td>0.133</td>\n",
       "      <td>0.447</td>\n",
       "      <td>0.047</td>\n",
       "      <td>38667.63</td>\n",
       "      <td>1.000</td>\n",
       "      <td>2.069</td>\n",
       "      <td>0.589</td>\n",
       "      <td>0.767</td>\n",
       "    </tr>\n",
       "  </tbody>\n",
       "</table>\n",
       "</div>"
      ],
      "text/plain": [
       "       Type predictor    TP     FP     TN   FN  total    TPR    TNR  \\\n",
       "0  training    y_nn_1  2192  29619  20383  306  52500  0.878  0.408   \n",
       "1  training  pred_nn2  2188  28804  21198  310  52500  0.876  0.424   \n",
       "2  training  pred_nn3  2158  27169  22833  340  52500  0.864  0.457   \n",
       "3  training  y_xgb_cv  2210  28431  21571  288  52500  0.885  0.431   \n",
       "4      test    y_nn_1   964  12823   8574  139  22500  0.874  0.401   \n",
       "5      test  pred_nn2   957  12406   8991  146  22500  0.868  0.420   \n",
       "6      test  pred_nn3   937  11661   9736  166  22500  0.850  0.455   \n",
       "7      test  y_xgb_cv   956  12301   9096  147  22500  0.867  0.425   \n",
       "\n",
       "   precision  Fscore  accuracy  kappa    profit  index   ROME  contact    AUC  \n",
       "0      0.069   0.128     0.430  0.043  86666.49  0.969  1.932    0.606  0.766  \n",
       "1      0.071   0.131     0.445  0.047  87581.28  0.980  2.004    0.590  0.775  \n",
       "2      0.074   0.136     0.476  0.053  88128.93  0.986  2.131    0.559  0.776  \n",
       "3      0.072   0.133     0.453  0.050  89396.19  1.000  2.069    0.584  0.786  \n",
       "4      0.070   0.129     0.424  0.043  38400.33  0.993  1.975    0.613  0.765  \n",
       "5      0.072   0.132     0.442  0.046  38578.17  0.998  2.047    0.594  0.766  \n",
       "6      0.074   0.137     0.474  0.051  38456.82  0.995  2.165    0.560  0.765  \n",
       "7      0.072   0.133     0.447  0.047  38667.63  1.000  2.069    0.589  0.767  "
      ]
     },
     "execution_count": 59,
     "metadata": {},
     "output_type": "execute_result"
    }
   ],
   "source": [
    "#Eval bins for all the models\n",
    "\n",
    "dct = {\n",
    "    \"training\": eval_dat[eval_dat.training == 1],\n",
    "    \"test\": eval_dat[eval_dat.training == 0],\n",
    "}\n",
    "rsm.evalbin(\n",
    "    dct, \"res1_yes\", 1, [\"y_nn_1\", \"pred_nn2\", \"pred_nn3\", \"y_xgb_cv\"], cost= cost, margin= margin\n",
    ")"
   ]
  },
  {
   "cell_type": "code",
   "execution_count": 60,
   "metadata": {},
   "outputs": [
    {
     "data": {
      "text/html": [
       "<div>\n",
       "<style scoped>\n",
       "    .dataframe tbody tr th:only-of-type {\n",
       "        vertical-align: middle;\n",
       "    }\n",
       "\n",
       "    .dataframe tbody tr th {\n",
       "        vertical-align: top;\n",
       "    }\n",
       "\n",
       "    .dataframe thead th {\n",
       "        text-align: right;\n",
       "    }\n",
       "</style>\n",
       "<table border=\"1\" class=\"dataframe\">\n",
       "  <thead>\n",
       "    <tr style=\"text-align: right;\">\n",
       "      <th></th>\n",
       "      <th>id</th>\n",
       "      <th>res1_yes</th>\n",
       "      <th>training</th>\n",
       "      <th>y_nn_1</th>\n",
       "      <th>pred_nn2</th>\n",
       "      <th>pred_nn3</th>\n",
       "      <th>y_xgb_cv</th>\n",
       "    </tr>\n",
       "  </thead>\n",
       "  <tbody>\n",
       "    <tr>\n",
       "      <th>0</th>\n",
       "      <td>1</td>\n",
       "      <td>0</td>\n",
       "      <td>1</td>\n",
       "      <td>0.033679</td>\n",
       "      <td>0.046064</td>\n",
       "      <td>0.041151</td>\n",
       "      <td>0.036557</td>\n",
       "    </tr>\n",
       "    <tr>\n",
       "      <th>1</th>\n",
       "      <td>2</td>\n",
       "      <td>0</td>\n",
       "      <td>0</td>\n",
       "      <td>0.024696</td>\n",
       "      <td>0.025522</td>\n",
       "      <td>0.023382</td>\n",
       "      <td>0.031443</td>\n",
       "    </tr>\n",
       "    <tr>\n",
       "      <th>2</th>\n",
       "      <td>3</td>\n",
       "      <td>0</td>\n",
       "      <td>0</td>\n",
       "      <td>0.090177</td>\n",
       "      <td>0.083554</td>\n",
       "      <td>0.081208</td>\n",
       "      <td>0.079371</td>\n",
       "    </tr>\n",
       "    <tr>\n",
       "      <th>3</th>\n",
       "      <td>4</td>\n",
       "      <td>0</td>\n",
       "      <td>1</td>\n",
       "      <td>0.012317</td>\n",
       "      <td>0.009194</td>\n",
       "      <td>0.016504</td>\n",
       "      <td>0.015983</td>\n",
       "    </tr>\n",
       "    <tr>\n",
       "      <th>4</th>\n",
       "      <td>5</td>\n",
       "      <td>0</td>\n",
       "      <td>0</td>\n",
       "      <td>0.025815</td>\n",
       "      <td>0.027056</td>\n",
       "      <td>0.027103</td>\n",
       "      <td>0.027954</td>\n",
       "    </tr>\n",
       "    <tr>\n",
       "      <th>...</th>\n",
       "      <td>...</td>\n",
       "      <td>...</td>\n",
       "      <td>...</td>\n",
       "      <td>...</td>\n",
       "      <td>...</td>\n",
       "      <td>...</td>\n",
       "      <td>...</td>\n",
       "    </tr>\n",
       "    <tr>\n",
       "      <th>74995</th>\n",
       "      <td>74996</td>\n",
       "      <td>1</td>\n",
       "      <td>1</td>\n",
       "      <td>0.058752</td>\n",
       "      <td>0.050740</td>\n",
       "      <td>0.042332</td>\n",
       "      <td>0.058000</td>\n",
       "    </tr>\n",
       "    <tr>\n",
       "      <th>74996</th>\n",
       "      <td>74997</td>\n",
       "      <td>0</td>\n",
       "      <td>1</td>\n",
       "      <td>0.013931</td>\n",
       "      <td>0.008904</td>\n",
       "      <td>0.014468</td>\n",
       "      <td>0.009405</td>\n",
       "    </tr>\n",
       "    <tr>\n",
       "      <th>74997</th>\n",
       "      <td>74998</td>\n",
       "      <td>0</td>\n",
       "      <td>1</td>\n",
       "      <td>0.056422</td>\n",
       "      <td>0.050674</td>\n",
       "      <td>0.037948</td>\n",
       "      <td>0.062962</td>\n",
       "    </tr>\n",
       "    <tr>\n",
       "      <th>74998</th>\n",
       "      <td>74999</td>\n",
       "      <td>0</td>\n",
       "      <td>1</td>\n",
       "      <td>0.033329</td>\n",
       "      <td>0.047075</td>\n",
       "      <td>0.039942</td>\n",
       "      <td>0.045685</td>\n",
       "    </tr>\n",
       "    <tr>\n",
       "      <th>74999</th>\n",
       "      <td>75000</td>\n",
       "      <td>0</td>\n",
       "      <td>0</td>\n",
       "      <td>0.059384</td>\n",
       "      <td>0.054747</td>\n",
       "      <td>0.068485</td>\n",
       "      <td>0.061559</td>\n",
       "    </tr>\n",
       "  </tbody>\n",
       "</table>\n",
       "<p>75000 rows × 7 columns</p>\n",
       "</div>"
      ],
      "text/plain": [
       "          id  res1_yes  training    y_nn_1  pred_nn2  pred_nn3  y_xgb_cv\n",
       "0          1         0         1  0.033679  0.046064  0.041151  0.036557\n",
       "1          2         0         0  0.024696  0.025522  0.023382  0.031443\n",
       "2          3         0         0  0.090177  0.083554  0.081208  0.079371\n",
       "3          4         0         1  0.012317  0.009194  0.016504  0.015983\n",
       "4          5         0         0  0.025815  0.027056  0.027103  0.027954\n",
       "...      ...       ...       ...       ...       ...       ...       ...\n",
       "74995  74996         1         1  0.058752  0.050740  0.042332  0.058000\n",
       "74996  74997         0         1  0.013931  0.008904  0.014468  0.009405\n",
       "74997  74998         0         1  0.056422  0.050674  0.037948  0.062962\n",
       "74998  74999         0         1  0.033329  0.047075  0.039942  0.045685\n",
       "74999  75000         0         0  0.059384  0.054747  0.068485  0.061559\n",
       "\n",
       "[75000 rows x 7 columns]"
      ]
     },
     "execution_count": 60,
     "metadata": {},
     "output_type": "execute_result"
    }
   ],
   "source": [
    "eval_dat"
   ]
  },
  {
   "cell_type": "code",
   "execution_count": 61,
   "metadata": {},
   "outputs": [],
   "source": [
    "eval_dat.to_csv(\"eval_dat.csv\")"
   ]
  },
  {
   "cell_type": "code",
   "execution_count": 62,
   "metadata": {},
   "outputs": [],
   "source": [
    "result_dat = eval_dat[['id', \"res1_yes\", \"training\", \"y_nn_1\", \"pred_nn2\", \"pred_nn3\",  \"y_xgb_cv\"]]"
   ]
  },
  {
   "cell_type": "code",
   "execution_count": 63,
   "metadata": {},
   "outputs": [],
   "source": [
    "#Creating the ensemble model with 80% weightage to neural network with 2 hidden layers and xgboost (top 2 best performing models)\n",
    "result_dat[\"pred_ensemble\"] = result_dat[\"pred_nn2\"]*0.8 + result_dat[\"y_xgb_cv\"]*0.1 + result_dat[\"y_nn_1\"]*0.1"
   ]
  },
  {
   "cell_type": "code",
   "execution_count": 64,
   "metadata": {},
   "outputs": [
    {
     "data": {
      "text/html": [
       "<div>\n",
       "<style scoped>\n",
       "    .dataframe tbody tr th:only-of-type {\n",
       "        vertical-align: middle;\n",
       "    }\n",
       "\n",
       "    .dataframe tbody tr th {\n",
       "        vertical-align: top;\n",
       "    }\n",
       "\n",
       "    .dataframe thead th {\n",
       "        text-align: right;\n",
       "    }\n",
       "</style>\n",
       "<table border=\"1\" class=\"dataframe\">\n",
       "  <thead>\n",
       "    <tr style=\"text-align: right;\">\n",
       "      <th></th>\n",
       "      <th>Type</th>\n",
       "      <th>predictor</th>\n",
       "      <th>TP</th>\n",
       "      <th>FP</th>\n",
       "      <th>TN</th>\n",
       "      <th>FN</th>\n",
       "      <th>total</th>\n",
       "      <th>TPR</th>\n",
       "      <th>TNR</th>\n",
       "      <th>precision</th>\n",
       "      <th>Fscore</th>\n",
       "      <th>accuracy</th>\n",
       "      <th>kappa</th>\n",
       "      <th>profit</th>\n",
       "      <th>index</th>\n",
       "      <th>ROME</th>\n",
       "      <th>contact</th>\n",
       "      <th>AUC</th>\n",
       "    </tr>\n",
       "  </thead>\n",
       "  <tbody>\n",
       "    <tr>\n",
       "      <th>0</th>\n",
       "      <td>training</td>\n",
       "      <td>y_nn_1</td>\n",
       "      <td>2192</td>\n",
       "      <td>29619</td>\n",
       "      <td>20383</td>\n",
       "      <td>306</td>\n",
       "      <td>52500</td>\n",
       "      <td>0.878</td>\n",
       "      <td>0.408</td>\n",
       "      <td>0.069</td>\n",
       "      <td>0.128</td>\n",
       "      <td>0.430</td>\n",
       "      <td>0.043</td>\n",
       "      <td>86666.49</td>\n",
       "      <td>0.969</td>\n",
       "      <td>1.932</td>\n",
       "      <td>0.606</td>\n",
       "      <td>0.766</td>\n",
       "    </tr>\n",
       "    <tr>\n",
       "      <th>1</th>\n",
       "      <td>training</td>\n",
       "      <td>pred_nn2</td>\n",
       "      <td>2188</td>\n",
       "      <td>28804</td>\n",
       "      <td>21198</td>\n",
       "      <td>310</td>\n",
       "      <td>52500</td>\n",
       "      <td>0.876</td>\n",
       "      <td>0.424</td>\n",
       "      <td>0.071</td>\n",
       "      <td>0.131</td>\n",
       "      <td>0.445</td>\n",
       "      <td>0.047</td>\n",
       "      <td>87581.28</td>\n",
       "      <td>0.980</td>\n",
       "      <td>2.004</td>\n",
       "      <td>0.590</td>\n",
       "      <td>0.775</td>\n",
       "    </tr>\n",
       "    <tr>\n",
       "      <th>2</th>\n",
       "      <td>training</td>\n",
       "      <td>pred_nn3</td>\n",
       "      <td>2158</td>\n",
       "      <td>27169</td>\n",
       "      <td>22833</td>\n",
       "      <td>340</td>\n",
       "      <td>52500</td>\n",
       "      <td>0.864</td>\n",
       "      <td>0.457</td>\n",
       "      <td>0.074</td>\n",
       "      <td>0.136</td>\n",
       "      <td>0.476</td>\n",
       "      <td>0.053</td>\n",
       "      <td>88128.93</td>\n",
       "      <td>0.986</td>\n",
       "      <td>2.131</td>\n",
       "      <td>0.559</td>\n",
       "      <td>0.776</td>\n",
       "    </tr>\n",
       "    <tr>\n",
       "      <th>3</th>\n",
       "      <td>training</td>\n",
       "      <td>y_xgb_cv</td>\n",
       "      <td>2210</td>\n",
       "      <td>28431</td>\n",
       "      <td>21571</td>\n",
       "      <td>288</td>\n",
       "      <td>52500</td>\n",
       "      <td>0.885</td>\n",
       "      <td>0.431</td>\n",
       "      <td>0.072</td>\n",
       "      <td>0.133</td>\n",
       "      <td>0.453</td>\n",
       "      <td>0.050</td>\n",
       "      <td>89396.19</td>\n",
       "      <td>1.000</td>\n",
       "      <td>2.069</td>\n",
       "      <td>0.584</td>\n",
       "      <td>0.786</td>\n",
       "    </tr>\n",
       "    <tr>\n",
       "      <th>4</th>\n",
       "      <td>training</td>\n",
       "      <td>pred_ensemble</td>\n",
       "      <td>2199</td>\n",
       "      <td>29018</td>\n",
       "      <td>20984</td>\n",
       "      <td>299</td>\n",
       "      <td>52500</td>\n",
       "      <td>0.880</td>\n",
       "      <td>0.420</td>\n",
       "      <td>0.070</td>\n",
       "      <td>0.130</td>\n",
       "      <td>0.442</td>\n",
       "      <td>0.046</td>\n",
       "      <td>87924.03</td>\n",
       "      <td>0.984</td>\n",
       "      <td>1.998</td>\n",
       "      <td>0.595</td>\n",
       "      <td>0.777</td>\n",
       "    </tr>\n",
       "    <tr>\n",
       "      <th>5</th>\n",
       "      <td>test</td>\n",
       "      <td>y_nn_1</td>\n",
       "      <td>964</td>\n",
       "      <td>12823</td>\n",
       "      <td>8574</td>\n",
       "      <td>139</td>\n",
       "      <td>22500</td>\n",
       "      <td>0.874</td>\n",
       "      <td>0.401</td>\n",
       "      <td>0.070</td>\n",
       "      <td>0.129</td>\n",
       "      <td>0.424</td>\n",
       "      <td>0.043</td>\n",
       "      <td>38400.33</td>\n",
       "      <td>0.993</td>\n",
       "      <td>1.975</td>\n",
       "      <td>0.613</td>\n",
       "      <td>0.765</td>\n",
       "    </tr>\n",
       "    <tr>\n",
       "      <th>6</th>\n",
       "      <td>test</td>\n",
       "      <td>pred_nn2</td>\n",
       "      <td>957</td>\n",
       "      <td>12406</td>\n",
       "      <td>8991</td>\n",
       "      <td>146</td>\n",
       "      <td>22500</td>\n",
       "      <td>0.868</td>\n",
       "      <td>0.420</td>\n",
       "      <td>0.072</td>\n",
       "      <td>0.132</td>\n",
       "      <td>0.442</td>\n",
       "      <td>0.046</td>\n",
       "      <td>38578.17</td>\n",
       "      <td>0.998</td>\n",
       "      <td>2.047</td>\n",
       "      <td>0.594</td>\n",
       "      <td>0.766</td>\n",
       "    </tr>\n",
       "    <tr>\n",
       "      <th>7</th>\n",
       "      <td>test</td>\n",
       "      <td>pred_nn3</td>\n",
       "      <td>937</td>\n",
       "      <td>11661</td>\n",
       "      <td>9736</td>\n",
       "      <td>166</td>\n",
       "      <td>22500</td>\n",
       "      <td>0.850</td>\n",
       "      <td>0.455</td>\n",
       "      <td>0.074</td>\n",
       "      <td>0.137</td>\n",
       "      <td>0.474</td>\n",
       "      <td>0.051</td>\n",
       "      <td>38456.82</td>\n",
       "      <td>0.995</td>\n",
       "      <td>2.165</td>\n",
       "      <td>0.560</td>\n",
       "      <td>0.765</td>\n",
       "    </tr>\n",
       "    <tr>\n",
       "      <th>8</th>\n",
       "      <td>test</td>\n",
       "      <td>y_xgb_cv</td>\n",
       "      <td>956</td>\n",
       "      <td>12301</td>\n",
       "      <td>9096</td>\n",
       "      <td>147</td>\n",
       "      <td>22500</td>\n",
       "      <td>0.867</td>\n",
       "      <td>0.425</td>\n",
       "      <td>0.072</td>\n",
       "      <td>0.133</td>\n",
       "      <td>0.447</td>\n",
       "      <td>0.047</td>\n",
       "      <td>38667.63</td>\n",
       "      <td>1.000</td>\n",
       "      <td>2.069</td>\n",
       "      <td>0.589</td>\n",
       "      <td>0.767</td>\n",
       "    </tr>\n",
       "    <tr>\n",
       "      <th>9</th>\n",
       "      <td>test</td>\n",
       "      <td>pred_ensemble</td>\n",
       "      <td>960</td>\n",
       "      <td>12512</td>\n",
       "      <td>8885</td>\n",
       "      <td>143</td>\n",
       "      <td>22500</td>\n",
       "      <td>0.870</td>\n",
       "      <td>0.415</td>\n",
       "      <td>0.071</td>\n",
       "      <td>0.132</td>\n",
       "      <td>0.438</td>\n",
       "      <td>0.045</td>\n",
       "      <td>38604.48</td>\n",
       "      <td>0.998</td>\n",
       "      <td>2.032</td>\n",
       "      <td>0.599</td>\n",
       "      <td>0.767</td>\n",
       "    </tr>\n",
       "  </tbody>\n",
       "</table>\n",
       "</div>"
      ],
      "text/plain": [
       "       Type      predictor    TP     FP     TN   FN  total    TPR    TNR  \\\n",
       "0  training         y_nn_1  2192  29619  20383  306  52500  0.878  0.408   \n",
       "1  training       pred_nn2  2188  28804  21198  310  52500  0.876  0.424   \n",
       "2  training       pred_nn3  2158  27169  22833  340  52500  0.864  0.457   \n",
       "3  training       y_xgb_cv  2210  28431  21571  288  52500  0.885  0.431   \n",
       "4  training  pred_ensemble  2199  29018  20984  299  52500  0.880  0.420   \n",
       "5      test         y_nn_1   964  12823   8574  139  22500  0.874  0.401   \n",
       "6      test       pred_nn2   957  12406   8991  146  22500  0.868  0.420   \n",
       "7      test       pred_nn3   937  11661   9736  166  22500  0.850  0.455   \n",
       "8      test       y_xgb_cv   956  12301   9096  147  22500  0.867  0.425   \n",
       "9      test  pred_ensemble   960  12512   8885  143  22500  0.870  0.415   \n",
       "\n",
       "   precision  Fscore  accuracy  kappa    profit  index   ROME  contact    AUC  \n",
       "0      0.069   0.128     0.430  0.043  86666.49  0.969  1.932    0.606  0.766  \n",
       "1      0.071   0.131     0.445  0.047  87581.28  0.980  2.004    0.590  0.775  \n",
       "2      0.074   0.136     0.476  0.053  88128.93  0.986  2.131    0.559  0.776  \n",
       "3      0.072   0.133     0.453  0.050  89396.19  1.000  2.069    0.584  0.786  \n",
       "4      0.070   0.130     0.442  0.046  87924.03  0.984  1.998    0.595  0.777  \n",
       "5      0.070   0.129     0.424  0.043  38400.33  0.993  1.975    0.613  0.765  \n",
       "6      0.072   0.132     0.442  0.046  38578.17  0.998  2.047    0.594  0.766  \n",
       "7      0.074   0.137     0.474  0.051  38456.82  0.995  2.165    0.560  0.765  \n",
       "8      0.072   0.133     0.447  0.047  38667.63  1.000  2.069    0.589  0.767  \n",
       "9      0.071   0.132     0.438  0.045  38604.48  0.998  2.032    0.599  0.767  "
      ]
     },
     "execution_count": 64,
     "metadata": {},
     "output_type": "execute_result"
    }
   ],
   "source": [
    "dct = {\n",
    "    \"training\": result_dat[result_dat.training == 1],\n",
    "    \"test\": result_dat[result_dat.training == 0],\n",
    "}\n",
    "rsm.evalbin(\n",
    "    dct, \"res1_yes\", 1, [ \"y_nn_1\", \"pred_nn2\", \"pred_nn3\", \"y_xgb_cv\", \"pred_ensemble\"], cost= cost, margin= margin\n",
    ")"
   ]
  },
  {
   "cell_type": "code",
   "execution_count": 65,
   "metadata": {},
   "outputs": [
    {
     "name": "stderr",
     "output_type": "stream",
     "text": [
      "<ipython-input-65-ed715e402037>:3: SettingWithCopyWarning: \n",
      "A value is trying to be set on a copy of a slice from a DataFrame\n",
      "\n",
      "See the caveats in the documentation: https://pandas.pydata.org/pandas-docs/stable/user_guide/indexing.html#returning-a-view-versus-a-copy\n",
      "  result_dat['mailto_wave2'][result_dat['res1_yes']==1] = False\n"
     ]
    }
   ],
   "source": [
    "# Determining Mailto customers for wave 2\n",
    "result_dat[\"mailto_wave2\"] = (result_dat['pred_ensemble']*0.5)> (breakeven)\n",
    "result_dat['mailto_wave2'][result_dat['res1_yes']==1] = False"
   ]
  },
  {
   "cell_type": "code",
   "execution_count": 66,
   "metadata": {},
   "outputs": [
    {
     "data": {
      "text/plain": [
       "6040"
      ]
     },
     "execution_count": 66,
     "metadata": {},
     "output_type": "execute_result"
    }
   ],
   "source": [
    "len(result_dat[(result_dat['training']==0) & (result_dat[\"mailto_wave2\"]==True)])"
   ]
  },
  {
   "cell_type": "code",
   "execution_count": 67,
   "metadata": {},
   "outputs": [],
   "source": [
    "output = result_dat[(result_dat['training']==0)][['id','mailto_wave2']].set_index('id')\n",
    "output['mailto_wave2']=rsm.ifelse(output['mailto_wave2']==True,'TRUE','FALSE')"
   ]
  },
  {
   "cell_type": "code",
   "execution_count": 68,
   "metadata": {},
   "outputs": [],
   "source": [
    "#Exporting the ouput to csv\n",
    "output.to_csv('Alexia_Hongyuan_Lupeng_Madhumita_LuckyDucks.csv')"
   ]
  },
  {
   "cell_type": "code",
   "execution_count": null,
   "metadata": {},
   "outputs": [],
   "source": []
  },
  {
   "cell_type": "code",
   "execution_count": null,
   "metadata": {},
   "outputs": [],
   "source": []
  },
  {
   "cell_type": "code",
   "execution_count": 84,
   "metadata": {},
   "outputs": [
    {
     "data": {
      "image/png": "[encoded data removed]",
      "text/plain": [
       "<Figure size 432x288 with 1 Axes>"
      ]
     },
     "metadata": {
      "needs_background": "light"
     },
     "output_type": "display_data"
    }
   ],
   "source": [
    "# testing set gains plot\n",
    "dct = {\"test_nn1\": pred_test_nn1, \"test_nn2\": pred_test_nn2, \"test_nn3\": pred_test_nn3, \"test_xgb\": pred_test_xgb}\n",
    "fig = rsm.gains_plot(dct, \"actual\", 1, \"pred\")\n",
    "fig = fig.legend(title=None)"
   ]
  },
  {
   "cell_type": "code",
   "execution_count": 86,
   "metadata": {},
   "outputs": [
    {
     "data": {
      "image/png": "[encoded data removed]",
      "text/plain": [
       "<Figure size 432x288 with 1 Axes>"
      ]
     },
     "metadata": {
      "needs_background": "light"
     },
     "output_type": "display_data"
    }
   ],
   "source": [
    "# training set gains plot\n",
    "dct = {\"train_nn1\": pred_train_nn1, \"train_nn2\": pred_train_nn2, \"train_nn3\": pred_train_nn3, \"train_xgb\": pred_train_xgb}\n",
    "fig = rsm.gains_plot(dct, \"actual\", 1, \"pred\")\n",
    "fig = fig.legend(title=None)"
   ]
  },
  {
   "cell_type": "code",
   "execution_count": null,
   "metadata": {},
   "outputs": [],
   "source": []
  }
 ],
 "metadata": {
  "kernelspec": {
   "display_name": "Python 3",
   "language": "python",
   "name": "python3"
  },
  "language_info": {
   "codemirror_mode": {
    "name": "ipython",
    "version": 3
   },
   "file_extension": ".py",
   "mimetype": "text/x-python",
   "name": "python",
   "nbconvert_exporter": "python",
   "pygments_lexer": "ipython3",
   "version": "3.8.5"
  }
 },
 "nbformat": 4,
 "nbformat_minor": 4
}
